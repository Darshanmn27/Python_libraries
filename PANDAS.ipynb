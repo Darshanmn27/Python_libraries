{
 "cells": [
  {
   "cell_type": "markdown",
   "metadata": {},
   "source": [
    "Pandas is a powerful data manipulation and analysis library for Python"
   ]
  },
  {
   "cell_type": "markdown",
   "metadata": {},
   "source": [
    "Create DataFrame using dictionary:"
   ]
  },
  {
   "cell_type": "code",
   "execution_count": 4,
   "metadata": {},
   "outputs": [
    {
     "name": "stdout",
     "output_type": "stream",
     "text": [
      "      Name  Age\n",
      "0    Alice   25\n",
      "1      Bob   30\n",
      "2  Charlie   35\n"
     ]
    }
   ],
   "source": [
    "import pandas as pd\n",
    "\n",
    "data = {'Name': ['Alice', 'Bob', 'Charlie'],'Age': [25, 30, 35]}\n",
    "df = pd.DataFrame(data)\n",
    "print(df)"
   ]
  },
  {
   "cell_type": "code",
   "execution_count": 5,
   "metadata": {},
   "outputs": [
    {
     "name": "stdout",
     "output_type": "stream",
     "text": [
      "Alice      25\n",
      "Bob        30\n",
      "Charlie    35\n",
      "dtype: int64\n"
     ]
    }
   ],
   "source": [
    "import pandas as pd\n",
    "age_series = pd.Series([25, 30, 35], index=['Alice', 'Bob', 'Charlie'])\n",
    "print(age_series)"
   ]
  },
  {
   "cell_type": "markdown",
   "metadata": {},
   "source": [
    " Reading CSV Files"
   ]
  },
  {
   "cell_type": "code",
   "execution_count": 10,
   "metadata": {},
   "outputs": [
    {
     "name": "stdout",
     "output_type": "stream",
     "text": [
      "  First Name Last Name     Sex                       Email Date of birth  \\\n",
      "0     Shelby   Terrell    Male        elijah57@example.net    1945-10-26   \n",
      "1    Phillip   Summers  Female       bethany14@example.com    1910-03-24   \n",
      "2   Kristine    Travis    Male       bthompson@example.com    1992-07-02   \n",
      "3    Yesenia  Martinez    Male   kaitlinkaiser@example.com    2017-08-03   \n",
      "4       Lori      Todd    Male  buchananmanuel@example.net    1938-12-01   \n",
      "\n",
      "            Job Title  \n",
      "0     Games developer  \n",
      "1      Phytotherapist  \n",
      "2           Homeopath  \n",
      "3   Market researcher  \n",
      "4  Veterinary surgeon  \n"
     ]
    }
   ],
   "source": [
    "import pandas as pd \n",
    "df = pd.read_csv(r\"people_data.csv\")\n",
    "print(df)"
   ]
  },
  {
   "cell_type": "code",
   "execution_count": 11,
   "metadata": {},
   "outputs": [
    {
     "name": "stdout",
     "output_type": "stream",
     "text": [
      "0    25\n",
      "1    30\n",
      "2    35\n",
      "Name: Age, dtype: int64\n"
     ]
    }
   ],
   "source": [
    "import pandas as pd\n",
    "\n",
    "data = {'Name': ['Alice', 'Bob', 'Charlie'],'Age': [25, 30, 35]}\n",
    "df = pd.DataFrame(data)\n",
    "\n",
    "# Select a single column\n",
    "age_column = df['Age']\n",
    "print(age_column)"
   ]
  },
  {
   "cell_type": "code",
   "execution_count": 12,
   "metadata": {},
   "outputs": [
    {
     "name": "stdout",
     "output_type": "stream",
     "text": [
      "Row by label:\n",
      " Name    Bob\n",
      "Age      30\n",
      "Name: 1, dtype: object\n",
      "Row by position:\n",
      " Name    Bob\n",
      "Age      30\n",
      "Name: 1, dtype: object\n"
     ]
    }
   ],
   "source": [
    "import pandas as pd\n",
    "\n",
    "data = {'Name': ['Alice', 'Bob', 'Charlie'], 'Age': [25, 30, 35]}\n",
    "df = pd.DataFrame(data)\n",
    "\n",
    "# Using .loc[] to select rows by label\n",
    "row_by_label = df.loc[1]  # Selects the row with index label 1 (Bob's data)\n",
    "\n",
    "# Using .iloc[] to select rows by position\n",
    "row_by_position = df.iloc[1]  # Selects the second row (Bob's data)\n",
    "\n",
    "print(\"Row by label:\\n\", row_by_label)\n",
    "print(\"Row by position:\\n\", row_by_position)"
   ]
  },
  {
   "cell_type": "code",
   "execution_count": 2,
   "metadata": {},
   "outputs": [
    {
     "name": "stdout",
     "output_type": "stream",
     "text": [
      "      Name  Age         City\n",
      "0    Alice   25     New York\n",
      "1      Bob   30  Los Angeles\n",
      "2  Charlie   35      Chicago\n"
     ]
    }
   ],
   "source": [
    "import pandas as pd\n",
    "\n",
    "# Create a dictionary\n",
    "data = {\n",
    "    \"Name\": [\"Alice\", \"Bob\", \"Charlie\"],\n",
    "    \"Age\": [25, 30, 35],\n",
    "    \"City\": [\"New York\", \"Los Angeles\", \"Chicago\"]\n",
    "}\n",
    "\n",
    "# Create a DataFrame\n",
    "df = pd.DataFrame(data)\n",
    "\n",
    "# Display the DataFrame\n",
    "print(df)\n"
   ]
  },
  {
   "cell_type": "code",
   "execution_count": 13,
   "metadata": {},
   "outputs": [
    {
     "name": "stdout",
     "output_type": "stream",
     "text": [
      "      Name  Age\n",
      "1      Bob   30\n",
      "2  Charlie   35\n"
     ]
    }
   ],
   "source": [
    "import pandas as pd\n",
    "\n",
    "data = {'Name': ['Alice', 'Bob', 'Charlie'],'Age': [25, 30, 35]}\n",
    "df = pd.DataFrame(data)\n",
    "\n",
    "# Filtering rows where Age is greater than 30\n",
    "filtered_df = df[df['Age'] > 28]\n",
    "print(filtered_df)"
   ]
  },
  {
   "cell_type": "code",
   "execution_count": 14,
   "metadata": {},
   "outputs": [
    {
     "name": "stdout",
     "output_type": "stream",
     "text": [
      "      Name  Age  Salary\n",
      "0    Alice   25   50000\n",
      "1      Bob   30   60000\n",
      "2  Charlie   35   70000\n"
     ]
    }
   ],
   "source": [
    "import pandas as pd\n",
    "\n",
    "df = pd.DataFrame({'Name': ['Alice', 'Bob', 'Charlie'], 'Age': [25, 30, 35]})\n",
    "\n",
    "# Adding a new column with a list of values\n",
    "df['Salary'] = [50000, 60000, 70000]\n",
    "print(df)"
   ]
  },
  {
   "cell_type": "code",
   "execution_count": 15,
   "metadata": {},
   "outputs": [
    {
     "name": "stdout",
     "output_type": "stream",
     "text": [
      "   X  Y  Z\n",
      "0  1  4  7\n",
      "1  2  5  8\n",
      "2  3  6  9\n"
     ]
    }
   ],
   "source": [
    "import pandas as pd\n",
    "\n",
    "df = pd.DataFrame({'A': [1, 2, 3], 'B': [4, 5, 6], 'C': [7, 8, 9]})\n",
    "\n",
    "# Renaming columns\n",
    "df.rename(columns={'A': 'X', 'B': 'Y', 'C': 'Z'}, inplace=True)\n",
    "print(df)"
   ]
  },
  {
   "cell_type": "code",
   "execution_count": 16,
   "metadata": {},
   "outputs": [
    {
     "name": "stdout",
     "output_type": "stream",
     "text": [
      "Reindexed Rows:\n",
      "       A     B\n",
      "0  10.0  40.0\n",
      "1  20.0  50.0\n",
      "2  30.0  60.0\n",
      "3   NaN   NaN\n"
     ]
    }
   ],
   "source": [
    "import pandas as pd\n",
    "\n",
    "# Sample DataFrame\n",
    "data = {'A': [10, 20, 30], 'B': [40, 50, 60]}\n",
    "df = pd.DataFrame(data)\n",
    "\n",
    "# Reindex rows\n",
    "new_index = [0, 1, 2, 3]\n",
    "df_reindexed = df.reindex(new_index)\n",
    "print(\"Reindexed Rows:\\n\", df_reindexed)"
   ]
  },
  {
   "cell_type": "code",
   "execution_count": 17,
   "metadata": {},
   "outputs": [
    {
     "name": "stdout",
     "output_type": "stream",
     "text": [
      "    Col1   Col2\n",
      "0  False  False\n",
      "1  False   True\n",
      "2   True   True\n"
     ]
    }
   ],
   "source": [
    "import pandas as pd\n",
    "import numpy as np\n",
    "df = pd.DataFrame({'Col1': [1, 2, np.nan],'Col2': [3, np.nan, np.nan]})\n",
    "\n",
    "# Check for missing values\n",
    "print(df.isnull())\n",
    "\n",
    "# Output:\n",
    "#     Col1   Col2\n",
    "# 0  False  False\n",
    "# 1  False   True\n",
    "# 2   True   True\n"
   ]
  },
  {
   "cell_type": "code",
   "execution_count": 18,
   "metadata": {},
   "outputs": [
    {
     "name": "stdout",
     "output_type": "stream",
     "text": [
      "   Col1  Col2\n",
      "0   1.0   3.0\n",
      "1   2.0   NaN\n",
      "2   NaN   NaN\n"
     ]
    }
   ],
   "source": [
    "import pandas as pd\n",
    "import numpy as np\n",
    "df = pd.DataFrame({'Col1': [1, 2, np.nan],'Col2': [3, np.nan, np.nan]})\n",
    "df.fillna(0)\n",
    "print(df)"
   ]
  },
  {
   "cell_type": "code",
   "execution_count": 19,
   "metadata": {},
   "outputs": [
    {
     "name": "stdout",
     "output_type": "stream",
     "text": [
      "    Name   Age\n",
      "0  Alice  25.0\n"
     ]
    }
   ],
   "source": [
    "import pandas as pd\n",
    "data = {'Name': ['Alice', 'Bob', None], 'Age': [25, None, 35]}\n",
    "df = pd.DataFrame(data)\n",
    "\n",
    "# Drop rows with missing values\n",
    "df_dropped = df.dropna()\n",
    "print(df_dropped)"
   ]
  },
  {
   "cell_type": "code",
   "execution_count": 20,
   "metadata": {},
   "outputs": [
    {
     "name": "stdout",
     "output_type": "stream",
     "text": [
      "Sum:\n",
      "           Value\n",
      "Category       \n",
      "A            40\n",
      "B            60\n",
      "\n",
      "Mean:\n",
      " Category\n",
      "A    20.0\n",
      "B    30.0\n",
      "Name: Value, dtype: float64\n",
      "\n",
      "Aggregated:\n",
      "          Value      \n",
      "           sum  mean\n",
      "Category            \n",
      "A           40  20.0\n",
      "B           60  30.0\n"
     ]
    }
   ],
   "source": [
    "import pandas as pd\n",
    "data = {'Category': ['A', 'B', 'A', 'B'], 'Value': [10, 20, 30, 40]}\n",
    "df = pd.DataFrame(data)\n",
    "\n",
    "# Group data by 'Category' and calculate the sum\n",
    "grouped_sum = df.groupby('Category').sum()\n",
    "print(\"Sum:\\n\", grouped_sum)\n",
    "\n",
    "# Compute the mean for each group\n",
    "grouped_mean = df.groupby('Category')['Value'].mean()\n",
    "print(\"\\nMean:\\n\", grouped_mean)\n",
    "\n",
    "# Aggregate using multiple functions\n",
    "grouped_agg = df.groupby('Category').agg(['sum', 'mean'])\n",
    "print(\"\\nAggregated:\\n\", grouped_agg)\n"
   ]
  },
  {
   "cell_type": "code",
   "execution_count": 26,
   "metadata": {},
   "outputs": [
    {
     "name": "stdout",
     "output_type": "stream",
     "text": [
      " intial  data \n",
      "      Name  Years_Experience       Role\n",
      "0    Alice                 2    Manager\n",
      "1  Charlie                 3    Analyst\n",
      "2   Edward                 4  Developer\n",
      "3    Grace                 6         HR\n",
      "  new  data\n",
      "   Name  Years_Experience       Role\n",
      "0  John                 5   Designer\n",
      "1  Lily                 3  Developer\n",
      "Concatenated DataFrame:\n",
      "       Name  Years_Experience       Role\n",
      "0    Alice                 2    Manager\n",
      "1  Charlie                 3    Analyst\n",
      "2   Edward                 4  Developer\n",
      "3    Grace                 6         HR\n",
      "4     John                 5   Designer\n",
      "5     Lily                 3  Developer\n"
     ]
    }
   ],
   "source": [
    "import pandas as pd\n",
    "data = {'Name': ['Alice', 'Charlie', 'Edward', 'Grace'],'Years_Experience': [2, 3, 4, 6],'Role': ['Manager', 'Analyst', 'Developer', 'HR']}\n",
    "df = pd.DataFrame(data)\n",
    "print(\" intial  data \")\n",
    "print(df)\n",
    "\n",
    "# New DataFrame to concatenate\n",
    "new_data = {'Name': ['John', 'Lily'],'Years_Experience': [5, 3],'Role': ['Designer', 'Developer']}\n",
    "new_df = pd.DataFrame(new_data)\n",
    "print(\"  new  data\")\n",
    "print(new_df)\n",
    "\n",
    "# Concatenate the original and new DataFrames along rows (axis=0)\n",
    "concatenated_df = pd.concat([df, new_df], axis=0, ignore_index=True)\n",
    "\n",
    "print(\"Concatenated DataFrame:\\n\", concatenated_df)"
   ]
  },
  {
   "cell_type": "markdown",
   "metadata": {},
   "source": [
    "Reshaping Data in Pandas"
   ]
  },
  {
   "cell_type": "code",
   "execution_count": 27,
   "metadata": {},
   "outputs": [
    {
     "name": "stdout",
     "output_type": "stream",
     "text": [
      "Category     A   B\n",
      "Date              \n",
      "2024-10-01  10  20\n",
      "2024-10-02  15  25\n"
     ]
    }
   ],
   "source": [
    "import pandas as pd\n",
    "data = {'Date': ['2024-10-01', '2024-10-01', '2024-10-02', '2024-10-02'],'Category': ['A', 'B', 'A', 'B'],'Values': [10, 20, 15, 25]}\n",
    "df = pd.DataFrame(data)\n",
    "\n",
    "pivot_table = df.pivot_table(values='Values', index='Date', columns='Category', aggfunc='sum')\n",
    "print(pivot_table)"
   ]
  },
  {
   "cell_type": "markdown",
   "metadata": {},
   "source": [
    " Melting and Unmelting: Multiple columns are combined into a single key-value pair."
   ]
  },
  {
   "cell_type": "code",
   "execution_count": 28,
   "metadata": {},
   "outputs": [
    {
     "name": "stdout",
     "output_type": "stream",
     "text": [
      "         Date    Category  Values\n",
      "0  2024-10-01    Category    10.0\n",
      "1  2024-10-01    Category     NaN\n",
      "2  2024-10-02    Category    15.0\n",
      "3  2024-10-02    Category     NaN\n",
      "4  2024-10-01  Category_B     NaN\n",
      "5  2024-10-01  Category_B    20.0\n",
      "6  2024-10-02  Category_B     NaN\n",
      "7  2024-10-02  Category_B    25.0\n"
     ]
    }
   ],
   "source": [
    "import pandas as pd\n",
    "data = {'Date': ['2024-10-01', '2024-10-01', '2024-10-02', '2024-10-02'],'Category': [10, None, 15, None],'Category_B': [None, 20, None, 25]}\n",
    "df = pd.DataFrame(data)\n",
    "\n",
    "# Melt data from wide to long format\n",
    "melt_df = df.melt(id_vars='Date', var_name='Category', value_name='Values')\n",
    "print(melt_df)"
   ]
  },
  {
   "cell_type": "markdown",
   "metadata": {},
   "source": [
    " Stacking and Unstacking With Pandas:"
   ]
  },
  {
   "cell_type": "code",
   "execution_count": 29,
   "metadata": {},
   "outputs": [
    {
     "name": "stdout",
     "output_type": "stream",
     "text": [
      "          Sales      Expenses    \n",
      "             Q1   Q2       Q1  Q2\n",
      "Product_A   100  200       50  80\n",
      "Product_B   150  250       70  90\n",
      "              Sales  Expenses\n",
      "Product_A Q1    100        50\n",
      "          Q2    200        80\n",
      "Product_B Q1    150        70\n",
      "          Q2    250        90\n",
      "          Sales      Expenses    \n",
      "             Q1   Q2       Q1  Q2\n",
      "Product_A   100  200       50  80\n",
      "Product_B   150  250       70  90\n"
     ]
    },
    {
     "name": "stderr",
     "output_type": "stream",
     "text": [
      "C:\\Users\\darsh\\AppData\\Local\\Temp\\ipykernel_15012\\3503753264.py:13: FutureWarning: The previous implementation of stack is deprecated and will be removed in a future version of pandas. See the What's New notes for pandas 2.1.0 for details. Specify future_stack=True to adopt the new implementation and silence this warning.\n",
      "  stacked_df = df.stack() # Columns → Rows\n"
     ]
    }
   ],
   "source": [
    "import pandas as pd\n",
    "data = {\n",
    "    ('Sales', 'Q1'): [100, 150],\n",
    "    ('Sales', 'Q2'): [200, 250],\n",
    "    ('Expenses', 'Q1'): [50, 70],\n",
    "    ('Expenses', 'Q2'): [80, 90]\n",
    "}\n",
    "\n",
    "index = ['Product_A', 'Product_B']\n",
    "df = pd.DataFrame(data, index=index)\n",
    "print(df)\n",
    "\n",
    "stacked_df = df.stack() # Columns → Rows\n",
    "print(stacked_df)\n",
    "\n",
    "unstacked_df = stacked_df.unstack() # Rows → Columns\n",
    "print(unstacked_df)"
   ]
  },
  {
   "cell_type": "markdown",
   "metadata": {},
   "source": [
    "Create Pandas Dataframe from 2D List using pd.DataFrame()"
   ]
  },
  {
   "cell_type": "code",
   "execution_count": 30,
   "metadata": {},
   "outputs": [
    {
     "name": "stdout",
     "output_type": "stream",
     "text": [
      "             Tag  number\n",
      "0           Geek      25\n",
      "1             is      30\n",
      "2            for      26\n",
      "3  Geeksforgeeks      22\n"
     ]
    }
   ],
   "source": [
    "# import pandas as pd \n",
    "import pandas as pd  \n",
    "    \n",
    "# List1  \n",
    "lst = [['Geek', 25], ['is', 30], \n",
    "       ['for', 26], ['Geeksforgeeks', 22]] \n",
    "\n",
    "# creating df object with columns specified    \n",
    "df = pd.DataFrame(lst, columns =['Tag', 'number']) \n",
    "print(df )"
   ]
  },
  {
   "cell_type": "markdown",
   "metadata": {},
   "source": [
    "Create Pandas Dataframe from 2D List using"
   ]
  },
  {
   "cell_type": "code",
   "execution_count": 31,
   "metadata": {},
   "outputs": [
    {
     "name": "stdout",
     "output_type": "stream",
     "text": [
      "    Name  Age Occupation\n",
      "0  Geek1   28    Analyst\n",
      "1  Geek2   35    Manager\n",
      "2  Geek3   29  Developer\n"
     ]
    }
   ],
   "source": [
    "import pandas as pd\n",
    "\n",
    "# Two-dimensional list\n",
    "data = [['Geek1', 28, 'Analyst'],\n",
    "        ['Geek2', 35, 'Manager'],\n",
    "        ['Geek3', 29, 'Developer']]\n",
    "\n",
    "# Column names\n",
    "columns = ['Name', 'Age', 'Occupation']\n",
    "\n",
    "# Creating DataFrame using pd.DataFrame.from_records()\n",
    "df = pd.DataFrame.from_records(data, columns=columns)\n",
    "\n",
    "# Displaying the DataFrame\n",
    "print(df)"
   ]
  },
  {
   "cell_type": "code",
   "execution_count": 32,
   "metadata": {},
   "outputs": [
    {
     "name": "stdout",
     "output_type": "stream",
     "text": [
      "    Name  Age\n",
      "0  Geeks   10\n",
      "1    for   15\n",
      "2  geeks   20\n"
     ]
    }
   ],
   "source": [
    "import pandas as pd \n",
    " \n",
    "# initialize list of lists \n",
    "data = [['Geeks', 10], ['for', 15], ['geeks', 20]] \n",
    " \n",
    "# Create the pandas DataFrame \n",
    "df = pd.DataFrame(data, columns = ['Name', 'Age']) \n",
    " \n",
    "# print dataframe. \n",
    "print(df)"
   ]
  },
  {
   "cell_type": "code",
   "execution_count": 33,
   "metadata": {},
   "outputs": [
    {
     "name": "stdout",
     "output_type": "stream",
     "text": [
      "  Category         Name  Marks\n",
      "0       DS  Linked_list     10\n",
      "1       DS        Stack      9\n",
      "2       DS        Queue      7\n",
      "3     Algo       Greedy      8\n",
      "4     Algo           DP      6\n",
      "5     Algo    BackTrack      5\n"
     ]
    }
   ],
   "source": [
    "# Import pandas library \n",
    "import pandas as pd \n",
    " \n",
    "# initialize list of lists \n",
    "data = [['DS', 'Linked_list', 10], ['DS', 'Stack', 9], ['DS', 'Queue', 7],\n",
    "        ['Algo', 'Greedy', 8], ['Algo', 'DP', 6], ['Algo', 'BackTrack', 5], ] \n",
    " \n",
    "# Create the pandas DataFrame \n",
    "df = pd.DataFrame(data, columns = ['Category', 'Name', 'Marks']) \n",
    " \n",
    "# print dataframe. \n",
    "print(df)"
   ]
  },
  {
   "cell_type": "code",
   "execution_count": 34,
   "metadata": {},
   "outputs": [
    {
     "name": "stdout",
     "output_type": "stream",
     "text": [
      "    Name   Age      Occupation\n",
      "0  Geek1  28.0        Engineer\n",
      "1  Geek2   NaN  Data Scientist\n",
      "2  Geek3  32.0             NaN\n"
     ]
    }
   ],
   "source": [
    "import pandas as pd\n",
    "import numpy as np\n",
    " \n",
    "# Creating a DataFrame with missing values from a list of lists\n",
    "data = [['Geek1', 28, 'Engineer'],\n",
    "        ['Geek2', None, 'Data Scientist'],\n",
    "        ['Geek3', 32, None]]\n",
    " \n",
    "columns = ['Name', 'Age', 'Occupation']\n",
    " \n",
    "df = pd.DataFrame(data, columns=columns)\n",
    "df = df.replace({None: np.nan})  # Replacing None with NaN for missing values\n",
    "print(df)"
   ]
  },
  {
   "cell_type": "code",
   "execution_count": 35,
   "metadata": {},
   "outputs": [
    {
     "name": "stdout",
     "output_type": "stream",
     "text": [
      "    Name  Age      Occupation\n",
      "0  Geek1   28        Engineer\n",
      "1  Geek2   25  Data Scientist\n",
      "2  Geek3   32         Manager\n"
     ]
    }
   ],
   "source": [
    "import pandas as pd\n",
    " \n",
    "# Creating a DataFrame with different data types from a list of lists\n",
    "data = [['Geek1', 28, 'Engineer'],\n",
    "        ['Geek2', 25, 'Data Scientist'],\n",
    "        ['Geek3', '32', 'Manager']]  # Age represented as a string\n",
    " \n",
    "columns = ['Name', 'Age', 'Occupation']\n",
    " \n",
    "df = pd.DataFrame(data, columns=columns)\n",
    "df['Age'] = pd.to_numeric(df['Age'], errors='coerce')  # Convert 'Age' column to numeric, handling errors\n",
    "print(df)"
   ]
  },
  {
   "cell_type": "code",
   "execution_count": 36,
   "metadata": {},
   "outputs": [
    {
     "name": "stdout",
     "output_type": "stream",
     "text": [
      "   Col_1  Col_2  Col_3\n",
      "0      1      5     10\n",
      "1      2      6      9\n",
      "2      3      7      8 \n",
      "\n",
      "Transpose of above dataframe is-\n",
      "         0  1  2\n",
      "Col_1   1  2  3\n",
      "Col_2   5  6  7\n",
      "Col_3  10  9  8\n"
     ]
    }
   ],
   "source": [
    "import pandas as pd \n",
    " \n",
    "# initialize list of lists \n",
    "data = [[1, 5, 10], [2, 6, 9], [3, 7, 8]] \n",
    " \n",
    "# Create the pandas DataFrame \n",
    "df = pd.DataFrame(data)\n",
    " \n",
    "# specifying column names\n",
    "df.columns = ['Col_1', 'Col_2', 'Col_3']\n",
    " \n",
    "# print dataframe. \n",
    "print(df, \"\\n\")\n",
    " \n",
    "# transpose of dataframe\n",
    "df = df.transpose()\n",
    "print(\"Transpose of above dataframe is-\\n\", df)"
   ]
  },
  {
   "cell_type": "markdown",
   "metadata": {},
   "source": [
    "Creating a Pandas dataframe using list of tuples"
   ]
  },
  {
   "cell_type": "code",
   "execution_count": 37,
   "metadata": {},
   "outputs": [
    {
     "name": "stdout",
     "output_type": "stream",
     "text": [
      "     Name  Age  Score\n",
      "0   Peter   18      7\n",
      "1    Riff   15      6\n",
      "2    John   17      8\n",
      "3  Michel   18      7\n",
      "4   Sheli   17      5\n"
     ]
    }
   ],
   "source": [
    "# import pandas to use pandas DataFrame\n",
    "import pandas as pd\n",
    "\n",
    "# data in the form of list of tuples\n",
    "data = [('Peter', 18, 7),\n",
    "        ('Riff', 15, 6),\n",
    "        ('John', 17, 8),\n",
    "        ('Michel', 18, 7),\n",
    "        ('Sheli', 17, 5) ]\n",
    "\n",
    "# create DataFrame using data\n",
    "df = pd.DataFrame(data, columns =['Name', 'Age', 'Score'])\n",
    "\n",
    "print(df)"
   ]
  },
  {
   "cell_type": "markdown",
   "metadata": {},
   "source": [
    "Create a Pandas DataFrame from List of Dicts"
   ]
  },
  {
   "cell_type": "code",
   "execution_count": 38,
   "metadata": {},
   "outputs": [
    {
     "name": "stdout",
     "output_type": "stream",
     "text": [
      "       Geeks    For geeks\n",
      "1  dataframe  using  list\n",
      "2         10     20    30\n"
     ]
    }
   ],
   "source": [
    "import pandas as pd  \n",
    "    \n",
    "# Initialise data to lists.  \n",
    "data = [{'Geeks': 'dataframe', 'For': 'using', 'geeks': 'list'}, \n",
    "        {'Geeks':10, 'For': 20, 'geeks': 30}]  \n",
    "  \n",
    "df = pd.DataFrame.from_records(data,index=['1', '2']) \n",
    "print(df)"
   ]
  },
  {
   "cell_type": "code",
   "execution_count": 39,
   "metadata": {},
   "outputs": [
    {
     "name": "stdout",
     "output_type": "stream",
     "text": [
      "0    10\n",
      "1    20\n",
      "2    30\n",
      "3    40\n",
      "dtype: int64\n"
     ]
    }
   ],
   "source": [
    "# Creating a Series from a list\n",
    "series = pd.Series([10, 20, 30, 40])\n",
    "print(series)\n"
   ]
  },
  {
   "cell_type": "code",
   "execution_count": 40,
   "metadata": {},
   "outputs": [
    {
     "name": "stdout",
     "output_type": "stream",
     "text": [
      "      Name  Age\n",
      "0    Alice   25\n",
      "1      Bob   30\n",
      "2  Charlie   35\n"
     ]
    }
   ],
   "source": [
    "# Creating a DataFrame from a dictionary\n",
    "data = {'Name': ['Alice', 'Bob', 'Charlie'], 'Age': [25, 30, 35]}\n",
    "df = pd.DataFrame(data)\n",
    "print(df)\n"
   ]
  },
  {
   "cell_type": "code",
   "execution_count": 41,
   "metadata": {},
   "outputs": [
    {
     "name": "stdout",
     "output_type": "stream",
     "text": [
      "      Name  Age\n",
      "0    Alice   25\n",
      "1      Bob   30\n",
      "2  Charlie   35\n"
     ]
    }
   ],
   "source": [
    "# DataFrame from a list of lists\n",
    "data = [['Alice', 25], ['Bob', 30], ['Charlie', 35]]\n",
    "df = pd.DataFrame(data, columns=['Name', 'Age'])\n",
    "print(df)\n"
   ]
  },
  {
   "cell_type": "code",
   "execution_count": 42,
   "metadata": {},
   "outputs": [
    {
     "name": "stdout",
     "output_type": "stream",
     "text": [
      "    Name  Age\n",
      "0  Alice   25\n",
      "1    Bob   30\n"
     ]
    }
   ],
   "source": [
    "# DataFrame from a dictionary\n",
    "data = {'Name': ['Alice', 'Bob'], 'Age': [25, 30]}\n",
    "df = pd.DataFrame(data)\n",
    "print(df)\n"
   ]
  },
  {
   "cell_type": "code",
   "execution_count": 44,
   "metadata": {},
   "outputs": [
    {
     "name": "stdout",
     "output_type": "stream",
     "text": [
      "  First Name Last Name     Sex                       Email Date of birth  \\\n",
      "0     Shelby   Terrell    Male        elijah57@example.net    1945-10-26   \n",
      "1    Phillip   Summers  Female       bethany14@example.com    1910-03-24   \n",
      "2   Kristine    Travis    Male       bthompson@example.com    1992-07-02   \n",
      "3    Yesenia  Martinez    Male   kaitlinkaiser@example.com    2017-08-03   \n",
      "4       Lori      Todd    Male  buchananmanuel@example.net    1938-12-01   \n",
      "\n",
      "            Job Title  \n",
      "0     Games developer  \n",
      "1      Phytotherapist  \n",
      "2           Homeopath  \n",
      "3   Market researcher  \n",
      "4  Veterinary surgeon  \n"
     ]
    }
   ],
   "source": [
    "# Reading from a CSV file\n",
    "df = pd.read_csv('people_data.csv')\n",
    "print(df.head())\n"
   ]
  },
  {
   "cell_type": "code",
   "execution_count": 45,
   "metadata": {},
   "outputs": [
    {
     "name": "stdout",
     "output_type": "stream",
     "text": [
      "  First Name Last Name     Sex                       Email Date of birth  \\\n",
      "0     Shelby   Terrell    Male        elijah57@example.net    1945-10-26   \n",
      "1    Phillip   Summers  Female       bethany14@example.com    1910-03-24   \n",
      "2   Kristine    Travis    Male       bthompson@example.com    1992-07-02   \n",
      "3    Yesenia  Martinez    Male   kaitlinkaiser@example.com    2017-08-03   \n",
      "4       Lori      Todd    Male  buchananmanuel@example.net    1938-12-01   \n",
      "\n",
      "            Job Title  \n",
      "0     Games developer  \n",
      "1      Phytotherapist  \n",
      "2           Homeopath  \n",
      "3   Market researcher  \n",
      "4  Veterinary surgeon  \n",
      "  First Name Last Name     Sex                       Email Date of birth  \\\n",
      "0     Shelby   Terrell    Male        elijah57@example.net    1945-10-26   \n",
      "1    Phillip   Summers  Female       bethany14@example.com    1910-03-24   \n",
      "2   Kristine    Travis    Male       bthompson@example.com    1992-07-02   \n",
      "3    Yesenia  Martinez    Male   kaitlinkaiser@example.com    2017-08-03   \n",
      "4       Lori      Todd    Male  buchananmanuel@example.net    1938-12-01   \n",
      "\n",
      "            Job Title  \n",
      "0     Games developer  \n",
      "1      Phytotherapist  \n",
      "2           Homeopath  \n",
      "3   Market researcher  \n",
      "4  Veterinary surgeon  \n",
      "<class 'pandas.core.frame.DataFrame'>\n",
      "RangeIndex: 5 entries, 0 to 4\n",
      "Data columns (total 6 columns):\n",
      " #   Column         Non-Null Count  Dtype \n",
      "---  ------         --------------  ----- \n",
      " 0   First Name     5 non-null      object\n",
      " 1   Last Name      5 non-null      object\n",
      " 2   Sex            5 non-null      object\n",
      " 3   Email          5 non-null      object\n",
      " 4   Date of birth  5 non-null      object\n",
      " 5   Job Title      5 non-null      object\n",
      "dtypes: object(6)\n",
      "memory usage: 372.0+ bytes\n",
      "None\n",
      "       First Name Last Name   Sex                 Email Date of birth  \\\n",
      "count           5         5     5                     5             5   \n",
      "unique          5         5     2                     5             5   \n",
      "top        Shelby   Terrell  Male  elijah57@example.net    1945-10-26   \n",
      "freq            1         1     4                     1             1   \n",
      "\n",
      "              Job Title  \n",
      "count                 5  \n",
      "unique                5  \n",
      "top     Games developer  \n",
      "freq                  1  \n",
      "(5, 6)\n",
      "Index(['First Name', 'Last Name', 'Sex', 'Email', 'Date of birth',\n",
      "       'Job Title'],\n",
      "      dtype='object')\n"
     ]
    }
   ],
   "source": [
    "# Inspecting the DataFrame\n",
    "print(df.head())\n",
    "print(df.tail())\n",
    "print(df.info())\n",
    "print(df.describe())\n",
    "print(df.shape)\n",
    "print(df.columns)\n"
   ]
  },
  {
   "cell_type": "code",
   "execution_count": 47,
   "metadata": {},
   "outputs": [
    {
     "name": "stdout",
     "output_type": "stream",
     "text": [
      "   First Name  Last Name    Sex  Email  Date of birth  Job Title\n",
      "0       False      False  False  False          False      False\n",
      "1       False      False  False  False          False      False\n",
      "2       False      False  False  False          False      False\n",
      "3       False      False  False  False          False      False\n",
      "4       False      False  False  False          False      False\n"
     ]
    }
   ],
   "source": [
    "# Check for missing data\n",
    "print(df.isnull())\n",
    "\n",
    "# Fill missing data with a default value\n",
    "df = df.fillna(0)\n",
    "\n",
    "# Drop rows with missing data\n",
    "df = df.dropna()\n"
   ]
  },
  {
   "cell_type": "code",
   "execution_count": 48,
   "metadata": {},
   "outputs": [
    {
     "name": "stdout",
     "output_type": "stream",
     "text": [
      "0    False\n",
      "1    False\n",
      "2    False\n",
      "3    False\n",
      "4    False\n",
      "dtype: bool\n"
     ]
    }
   ],
   "source": [
    "# Check for duplicates\n",
    "print(df.duplicated())\n",
    "\n",
    "# Remove duplicates\n",
    "df = df.drop_duplicates()\n"
   ]
  },
  {
   "cell_type": "code",
   "execution_count": 51,
   "metadata": {},
   "outputs": [],
   "source": [
    "# Rename a column\n",
    "df = df.rename(columns={'Sex': 'Full Name'})\n"
   ]
  },
  {
   "cell_type": "code",
   "execution_count": 53,
   "metadata": {},
   "outputs": [],
   "source": [
    "# Sort by Age\n",
    "df = df.sort_values(by='Date of birth', ascending=False)\n",
    "\n",
    "# Sort by index\n",
    "df = df.sort_index()\n"
   ]
  }
 ],
 "metadata": {
  "kernelspec": {
   "display_name": "Python 3",
   "language": "python",
   "name": "python3"
  },
  "language_info": {
   "codemirror_mode": {
    "name": "ipython",
    "version": 3
   },
   "file_extension": ".py",
   "mimetype": "text/x-python",
   "name": "python",
   "nbconvert_exporter": "python",
   "pygments_lexer": "ipython3",
   "version": "3.13.1"
  }
 },
 "nbformat": 4,
 "nbformat_minor": 2
}
